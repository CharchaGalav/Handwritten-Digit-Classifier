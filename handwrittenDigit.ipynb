{
 "cells": [
  {
   "cell_type": "code",
   "execution_count": 1,
   "metadata": {},
   "outputs": [
    {
     "name": "stderr",
     "output_type": "stream",
     "text": [
      "c:\\Users\\Charcha\\anaconda3\\lib\\site-packages\\scipy\\__init__.py:146: UserWarning: A NumPy version >=1.16.5 and <1.23.0 is required for this version of SciPy (detected version 1.24.1\n",
      "  warnings.warn(f\"A NumPy version >={np_minversion} and <{np_maxversion}\"\n"
     ]
    }
   ],
   "source": [
    "import numpy as np\n",
    "import matplotlib.pyplot as plt\n",
    "import tensorflow as tf\n",
    "import keras\n",
    "from keras.datasets import mnist\n"
   ]
  },
  {
   "cell_type": "code",
   "execution_count": 2,
   "metadata": {},
   "outputs": [],
   "source": [
    "(X_train, y_train), (X_test, y_test) = mnist.load_data()"
   ]
  },
  {
   "cell_type": "code",
   "execution_count": 3,
   "metadata": {},
   "outputs": [
    {
     "data": {
      "text/plain": [
       "((60000, 28, 28), (60000,), (10000, 28, 28), (10000,))"
      ]
     },
     "execution_count": 3,
     "metadata": {},
     "output_type": "execute_result"
    }
   ],
   "source": [
    "X_train.shape, y_train.shape, X_test.shape, y_test.shape"
   ]
  },
  {
   "cell_type": "code",
   "execution_count": 4,
   "metadata": {},
   "outputs": [],
   "source": [
    "def plot_input_img(i):\n",
    "    plt.imshow(X_train[i], cmap='binary')\n",
    "    plt.title(y_train[i])\n",
    "    plt.show()\n",
    "    "
   ]
  },
  {
   "cell_type": "code",
   "execution_count": 5,
   "metadata": {},
   "outputs": [
    {
     "data": {
      "image/png": "[encoded data removed]",
      "text/plain": [
       "<Figure size 432x288 with 1 Axes>"
      ]
     },
     "metadata": {
      "needs_background": "light"
     },
     "output_type": "display_data"
    },
    {
     "data": {
      "image/png": "[encoded data removed]",
      "text/plain": [
       "<Figure size 432x288 with 1 Axes>"
      ]
     },
     "metadata": {
      "needs_background": "light"
     },
     "output_type": "display_data"
    }
   ],
   "source": [
    "plot_input_img(9)\n",
    "plot_input_img(3)"
   ]
  },
  {
   "cell_type": "markdown",
   "metadata": {},
   "source": [
    "## Pre Process the images"
   ]
  },
  {
   "cell_type": "code",
   "execution_count": 6,
   "metadata": {},
   "outputs": [
    {
     "name": "stdout",
     "output_type": "stream",
     "text": [
      "[[  0   0   0   0   0   0   0   0   0   0   0   0   0   0   0   0   0   0\n",
      "    0   0   0   0   0   0   0   0   0   0]\n",
      " [  0   0   0   0   0   0   0   0   0   0   0   0   0   0   0   0   0   0\n",
      "    0   0   0   0   0   0   0   0   0   0]\n",
      " [  0   0   0   0   0   0   0   0   0   0   0   0   0   0   0   0   0   0\n",
      "    0   0   0   0   0   0   0   0   0   0]\n",
      " [  0   0   0   0   0   0   0   0   0   0   0   0   0   0   0   0   0   0\n",
      "    0   0   0   0   0   0   0   0   0   0]\n",
      " [  0   0   0   0   0   0   0   0   0   0   0   0   0   0   0   0   0   0\n",
      "    0   0   0   0 189 190   0   0   0   0]\n",
      " [  0   0   0   0   0   0   0   0   0   0   0   0   0   0   0   0   0   0\n",
      "    0   0   0 143 247 153   0   0   0   0]\n",
      " [  0   0   0   0   0   0   0   0   0   0   0   0   0   0   0   0   0   0\n",
      "    0   0 136 247 242  86   0   0   0   0]\n",
      " [  0   0   0   0   0   0   0   0   0   0   0   0   0   0   0   0   0   0\n",
      "    0   0 192 252 187   0   0   0   0   0]\n",
      " [  0   0   0   0   0   0   0   0   0   0   0   0  62 185  18   0   0   0\n",
      "    0  89 236 217  47   0   0   0   0   0]\n",
      " [  0   0   0   0   0   0   0   0   0   0   0   0 216 253  60   0   0   0\n",
      "    0 212 255  81   0   0   0   0   0   0]\n",
      " [  0   0   0   0   0   0   0   0   0   0   0   0 206 252  68   0   0   0\n",
      "   48 242 253  89   0   0   0   0   0   0]\n",
      " [  0   0   0   0   0   0   0   0   0   0   0 131 251 212  21   0   0  11\n",
      "  167 252 197   5   0   0   0   0   0   0]\n",
      " [  0   0   0   0   0   0   0   0   0   0  29 232 247  63   0   0   0 153\n",
      "  252 226   0   0   0   0   0   0   0   0]\n",
      " [  0   0   0   0   0   0   0   0   0  45 219 252 143   0   0   0 116 249\n",
      "  252 103   0   0   0   0   0   0   0   0]\n",
      " [  0   0   0   0   0   0   0   4  96 253 255 253 200 122   7  25 201 250\n",
      "  158   0   0   0   0   0   0   0   0   0]\n",
      " [  0   0   0   0   0   0   0  92 252 252 253 217 252 252 200 227 252 231\n",
      "    0   0   0   0   0   0   0   0   0   0]\n",
      " [  0   0   0   0   0   0  87 251 247 231  65  48 189 252 252 253 252 251\n",
      "  227  35   0   0   0   0   0   0   0   0]\n",
      " [  0   0   0   0   0   0 190 221  98   0   0   0  42 196 252 253 252 252\n",
      "  162   0   0   0   0   0   0   0   0   0]\n",
      " [  0   0   0   0   0   0 111  29   0   0   0   0  62 239 252  86  42  42\n",
      "   14   0   0   0   0   0   0   0   0   0]\n",
      " [  0   0   0   0   0   0   0   0   0   0   0  15 148 253 218   0   0   0\n",
      "    0   0   0   0   0   0   0   0   0   0]\n",
      " [  0   0   0   0   0   0   0   0   0   0   0 121 252 231  28   0   0   0\n",
      "    0   0   0   0   0   0   0   0   0   0]\n",
      " [  0   0   0   0   0   0   0   0   0   0  31 221 251 129   0   0   0   0\n",
      "    0   0   0   0   0   0   0   0   0   0]\n",
      " [  0   0   0   0   0   0   0   0   0   0 218 252 160   0   0   0   0   0\n",
      "    0   0   0   0   0   0   0   0   0   0]\n",
      " [  0   0   0   0   0   0   0   0   0   0 122 252  82   0   0   0   0   0\n",
      "    0   0   0   0   0   0   0   0   0   0]\n",
      " [  0   0   0   0   0   0   0   0   0   0   0   0   0   0   0   0   0   0\n",
      "    0   0   0   0   0   0   0   0   0   0]\n",
      " [  0   0   0   0   0   0   0   0   0   0   0   0   0   0   0   0   0   0\n",
      "    0   0   0   0   0   0   0   0   0   0]\n",
      " [  0   0   0   0   0   0   0   0   0   0   0   0   0   0   0   0   0   0\n",
      "    0   0   0   0   0   0   0   0   0   0]\n",
      " [  0   0   0   0   0   0   0   0   0   0   0   0   0   0   0   0   0   0\n",
      "    0   0   0   0   0   0   0   0   0   0]]\n"
     ]
    }
   ],
   "source": [
    "print(X_train[9]) #checking the pixel values"
   ]
  },
  {
   "cell_type": "markdown",
   "metadata": {},
   "source": [
    "# Normalizinng the data\n"
   ]
  },
  {
   "cell_type": "code",
   "execution_count": 7,
   "metadata": {},
   "outputs": [
    {
     "data": {
      "text/plain": [
       "<matplotlib.image.AxesImage at 0x22078dc4160>"
      ]
     },
     "execution_count": 7,
     "metadata": {},
     "output_type": "execute_result"
    },
    {
     "data": {
      "image/png": "[encoded data removed]",
      "text/plain": [
       "<Figure size 432x288 with 1 Axes>"
      ]
     },
     "metadata": {
      "needs_background": "light"
     },
     "output_type": "display_data"
    }
   ],
   "source": [
    "# gray sacle image so pixel values are between 0 and 255 \n",
    "# we need to normalize the data to be between 0 and 1\n",
    "X_train = tf.keras.utils.normalize(X_train, axis=1) # or X_train = X_train/255\n",
    "X_test = tf.keras.utils.normalize(X_test, axis=1)\n",
    "plt.imshow(X_train[9], cmap='binary')"
   ]
  },
  {
   "cell_type": "markdown",
   "metadata": {},
   "source": [
    "After normalization"
   ]
  },
  {
   "cell_type": "code",
   "execution_count": 8,
   "metadata": {},
   "outputs": [
    {
     "name": "stdout",
     "output_type": "stream",
     "text": [
      "[[0.         0.         0.         0.         0.         0.\n",
      "  0.         0.         0.         0.         0.         0.\n",
      "  0.         0.         0.         0.         0.         0.\n",
      "  0.         0.         0.         0.         0.         0.\n",
      "  0.         0.         0.         0.        ]\n",
      " [0.         0.         0.         0.         0.         0.\n",
      "  0.         0.         0.         0.         0.         0.\n",
      "  0.         0.         0.         0.         0.         0.\n",
      "  0.         0.         0.         0.         0.         0.\n",
      "  0.         0.         0.         0.        ]\n",
      " [0.         0.         0.         0.         0.         0.\n",
      "  0.         0.         0.         0.         0.         0.\n",
      "  0.         0.         0.         0.         0.         0.\n",
      "  0.         0.         0.         0.         0.         0.\n",
      "  0.         0.         0.         0.        ]\n",
      " [0.         0.         0.         0.         0.         0.\n",
      "  0.         0.         0.         0.         0.         0.\n",
      "  0.         0.         0.         0.         0.         0.\n",
      "  0.         0.         0.         0.         0.         0.\n",
      "  0.         0.         0.         0.        ]\n",
      " [0.         0.         0.         0.         0.         0.\n",
      "  0.         0.         0.         0.         0.         0.\n",
      "  0.         0.         0.         0.         0.         0.\n",
      "  0.         0.         0.         0.         0.43080231 0.73455499\n",
      "  0.         0.         0.         0.        ]\n",
      " [0.         0.         0.         0.         0.         0.\n",
      "  0.         0.         0.         0.         0.         0.\n",
      "  0.         0.         0.         0.         0.         0.\n",
      "  0.         0.         0.         0.31464079 0.5630062  0.59151007\n",
      "  0.         0.         0.         0.        ]\n",
      " [0.         0.         0.         0.         0.         0.\n",
      "  0.         0.         0.         0.         0.         0.\n",
      "  0.         0.         0.         0.         0.         0.\n",
      "  0.         0.         0.25752265 0.54347046 0.55160931 0.33248279\n",
      "  0.         0.         0.         0.        ]\n",
      " [0.         0.         0.         0.         0.         0.\n",
      "  0.         0.         0.         0.         0.         0.\n",
      "  0.         0.         0.         0.         0.         0.\n",
      "  0.         0.         0.36356139 0.55447189 0.42624356 0.\n",
      "  0.         0.         0.         0.        ]\n",
      " [0.         0.         0.         0.         0.         0.\n",
      "  0.         0.         0.         0.         0.         0.\n",
      "  0.08263281 0.2424802  0.03354929 0.         0.         0.\n",
      "  0.         0.18249242 0.44687754 0.4774619  0.10713073 0.\n",
      "  0.         0.         0.         0.        ]\n",
      " [0.         0.         0.         0.         0.         0.\n",
      "  0.         0.         0.         0.         0.         0.\n",
      "  0.28788206 0.33160806 0.11183097 0.         0.         0.\n",
      "  0.         0.43470103 0.48285497 0.17822311 0.         0.\n",
      "  0.         0.         0.         0.        ]\n",
      " [0.         0.         0.         0.         0.         0.\n",
      "  0.         0.         0.         0.         0.         0.\n",
      "  0.27455418 0.33029736 0.12674177 0.         0.         0.\n",
      "  0.0941115  0.49621533 0.47906787 0.19582539 0.         0.\n",
      "  0.         0.         0.         0.        ]\n",
      " [0.         0.         0.         0.         0.         0.\n",
      "  0.         0.         0.         0.         0.         0.19780352\n",
      "  0.33452961 0.27786921 0.03914084 0.         0.         0.01915839\n",
      "  0.32742958 0.5167201  0.37302913 0.01100143 0.         0.\n",
      "  0.         0.         0.         0.        ]\n",
      " [0.         0.         0.         0.         0.         0.\n",
      "  0.         0.         0.         0.         0.0585375  0.35030852\n",
      "  0.32919846 0.08257434 0.         0.         0.         0.26647572\n",
      "  0.49408535 0.46340771 0.         0.         0.         0.\n",
      "  0.         0.         0.         0.        ]\n",
      " [0.         0.         0.         0.         0.         0.\n",
      "  0.         0.         0.         0.10522207 0.44205906 0.38050753\n",
      "  0.19058858 0.         0.         0.         0.23381538 0.43367617\n",
      "  0.49408535 0.21119909 0.         0.         0.         0.\n",
      "  0.         0.         0.         0.        ]\n",
      " [0.         0.         0.         0.         0.         0.\n",
      "  0.         0.01149145 0.25357016 0.59158187 0.5147263  0.38201748\n",
      "  0.26655746 0.15990586 0.01304695 0.05772456 0.40514561 0.43541784\n",
      "  0.30978367 0.         0.         0.         0.         0.\n",
      "  0.         0.         0.         0.        ]\n",
      " [0.         0.         0.         0.         0.         0.\n",
      "  0.         0.26430344 0.66562166 0.5892436  0.51068923 0.32765926\n",
      "  0.3358624  0.33029736 0.37276991 0.52413901 0.50794375 0.40232609\n",
      "  0.         0.         0.         0.         0.         0.\n",
      "  0.         0.         0.         0.        ]\n",
      " [0.         0.         0.         0.         0.         0.\n",
      "  0.36767493 0.72108874 0.65241488 0.54013997 0.13120474 0.07247762\n",
      "  0.2518968  0.33029736 0.46969008 0.58417255 0.50794375 0.43715952\n",
      "  0.44506895 0.07176668 0.         0.         0.         0.\n",
      "  0.         0.         0.         0.        ]\n",
      " [0.         0.         0.         0.         0.         0.\n",
      "  0.80296824 0.63490283 0.25885287 0.         0.         0.\n",
      "  0.05597707 0.25689794 0.46969008 0.58417255 0.50794375 0.43890119\n",
      "  0.3176263  0.         0.         0.         0.         0.\n",
      "  0.         0.         0.         0.        ]\n",
      " [0.         0.         0.         0.         0.         0.\n",
      "  0.4691025  0.08331304 0.         0.         0.         0.\n",
      "  0.08263281 0.31325821 0.46969008 0.19857249 0.08465729 0.0731502\n",
      "  0.02744919 0.         0.         0.         0.         0.\n",
      "  0.         0.         0.         0.        ]\n",
      " [0.         0.         0.         0.         0.         0.\n",
      "  0.         0.         0.         0.         0.         0.02264926\n",
      "  0.19725252 0.33160806 0.4063192  0.         0.         0.\n",
      "  0.         0.         0.         0.         0.         0.\n",
      "  0.         0.         0.         0.        ]\n",
      " [0.         0.         0.         0.         0.         0.\n",
      "  0.         0.         0.         0.         0.         0.18270401\n",
      "  0.3358624  0.30277258 0.05218779 0.         0.         0.\n",
      "  0.         0.         0.         0.         0.         0.\n",
      "  0.         0.         0.         0.        ]\n",
      " [0.         0.         0.         0.         0.         0.\n",
      "  0.         0.         0.         0.         0.06257457 0.33369906\n",
      "  0.33452961 0.16908079 0.         0.         0.         0.\n",
      "  0.         0.         0.         0.         0.         0.\n",
      "  0.         0.         0.         0.        ]\n",
      " [0.         0.         0.         0.         0.         0.\n",
      "  0.         0.         0.         0.         0.44004052 0.38050753\n",
      "  0.21324597 0.         0.         0.         0.         0.\n",
      "  0.         0.         0.         0.         0.         0.\n",
      "  0.         0.         0.         0.        ]\n",
      " [0.         0.         0.         0.         0.         0.\n",
      "  0.         0.         0.         0.         0.24626121 0.38050753\n",
      "  0.10928856 0.         0.         0.         0.         0.\n",
      "  0.         0.         0.         0.         0.         0.\n",
      "  0.         0.         0.         0.        ]\n",
      " [0.         0.         0.         0.         0.         0.\n",
      "  0.         0.         0.         0.         0.         0.\n",
      "  0.         0.         0.         0.         0.         0.\n",
      "  0.         0.         0.         0.         0.         0.\n",
      "  0.         0.         0.         0.        ]\n",
      " [0.         0.         0.         0.         0.         0.\n",
      "  0.         0.         0.         0.         0.         0.\n",
      "  0.         0.         0.         0.         0.         0.\n",
      "  0.         0.         0.         0.         0.         0.\n",
      "  0.         0.         0.         0.        ]\n",
      " [0.         0.         0.         0.         0.         0.\n",
      "  0.         0.         0.         0.         0.         0.\n",
      "  0.         0.         0.         0.         0.         0.\n",
      "  0.         0.         0.         0.         0.         0.\n",
      "  0.         0.         0.         0.        ]\n",
      " [0.         0.         0.         0.         0.         0.\n",
      "  0.         0.         0.         0.         0.         0.\n",
      "  0.         0.         0.         0.         0.         0.\n",
      "  0.         0.         0.         0.         0.         0.\n",
      "  0.         0.         0.         0.        ]]\n"
     ]
    }
   ],
   "source": [
    "print(X_train[9]) #checking the pixel values"
   ]
  },
  {
   "cell_type": "markdown",
   "metadata": {},
   "source": [
    "# Resizing image "
   ]
  },
  {
   "cell_type": "code",
   "execution_count": 9,
   "metadata": {},
   "outputs": [
    {
     "name": "stdout",
     "output_type": "stream",
     "text": [
      "Training samples dimension: (60000, 28, 28, 1)\n",
      "Testing samples dimension: (10000, 28, 28, 1)\n"
     ]
    }
   ],
   "source": [
    "img_size = 28\n",
    "# Reshaping the data from 28x28 to 28x28x1 to fit the input dimensions in Conv2D layer in keras\n",
    "# 1 for grayscale and 3 for RGB\n",
    "X_trainr = np.array(X_train).reshape(-1, img_size, img_size, 1) \n",
    "X_testr = np.array(X_test).reshape(-1, img_size, img_size, 1)\n",
    "print(\"Training samples dimension:\", X_trainr.shape)\n",
    "print(\"Testing samples dimension:\", X_testr.shape)"
   ]
  },
  {
   "cell_type": "markdown",
   "metadata": {},
   "source": [
    "# Creating a Deep Neural Network\n"
   ]
  },
  {
   "cell_type": "code",
   "execution_count": 10,
   "metadata": {},
   "outputs": [],
   "source": [
    "from tensorflow.keras.models import Sequential\n",
    "from tensorflow.keras.layers import Dense, Activation, Conv2D, MaxPooling2D, Flatten, Dropout"
   ]
  },
  {
   "cell_type": "code",
   "execution_count": 11,
   "metadata": {},
   "outputs": [],
   "source": [
    "model = Sequential()\n",
    "\n",
    "# 1st Convolutional Layer\n",
    "model.add(Conv2D(filters=64, kernel_size=(3,3), input_shape=X_trainr.shape[1:], activation='relu')) # what is convo2D -> it is a layer that extracts features from a source image. These features are commonly learned by sliding a convolutional kernel (filter) across the input image.\n",
    "model.add(MaxPooling2D((2,2))) # what is MaxPooling2D -> it is a technique used to reduce the number of parameters in our model by downsampling the feature maps.\n",
    "\n",
    "# 2nd Convolutional Layer\n",
    "model.add(Conv2D(64, (3,3), activation='relu')) # what is relu -> it is an activation function that is used to increase the non-linearity in our model. It is an element-wise operation (applied per pixel) and replaces all negative pixel values in the feature map by zero.\n",
    "model.add(MaxPooling2D(pool_size=(2,2))) #max pooling is used to reduce the spatial dimensions of a given image.\n",
    "\n",
    "# 3rd Convolutional Layer\n",
    "model.add(Conv2D(64, (3,3), activation='relu')) \n",
    "model.add(MaxPooling2D((2,2)))\n",
    "\n",
    "# Flatten the layer\n",
    "model.add(Flatten())\n",
    "\n",
    "# 1st Dense Layer\n",
    "model.add(Dense(64, 'relu')) # what is Dense -> it is a fully connected layer. It is used to connect all neurons in one layer to every neuron in the next layer.\n",
    "\n",
    "# Dropout layer\n",
    "model.add(Dropout(0.25)) # it is regularization technique that prevents overfitting\n",
    "\n",
    "# 2nd Dense Layer\n",
    "model.add(Dense(32, activation='relu'))\n",
    "\n",
    "\n",
    "# Output Layer\n",
    "model.add(Dense(10, activation='softmax'))\n"
   ]
  },
  {
   "cell_type": "code",
   "execution_count": 12,
   "metadata": {},
   "outputs": [
    {
     "name": "stdout",
     "output_type": "stream",
     "text": [
      "Model: \"sequential\"\n",
      "_________________________________________________________________\n",
      " Layer (type)                Output Shape              Param #   \n",
      "=================================================================\n",
      " conv2d (Conv2D)             (None, 26, 26, 64)        640       \n",
      "                                                                 \n",
      " max_pooling2d (MaxPooling2  (None, 13, 13, 64)        0         \n",
      " D)                                                              \n",
      "                                                                 \n",
      " conv2d_1 (Conv2D)           (None, 11, 11, 64)        36928     \n",
      "                                                                 \n",
      " max_pooling2d_1 (MaxPoolin  (None, 5, 5, 64)          0         \n",
      " g2D)                                                            \n",
      "                                                                 \n",
      " conv2d_2 (Conv2D)           (None, 3, 3, 64)          36928     \n",
      "                                                                 \n",
      " max_pooling2d_2 (MaxPoolin  (None, 1, 1, 64)          0         \n",
      " g2D)                                                            \n",
      "                                                                 \n",
      " flatten (Flatten)           (None, 64)                0         \n",
      "                                                                 \n",
      " dense (Dense)               (None, 64)                4160      \n",
      "                                                                 \n",
      " dropout (Dropout)           (None, 64)                0         \n",
      "                                                                 \n",
      " dense_1 (Dense)             (None, 32)                2080      \n",
      "                                                                 \n",
      " dense_2 (Dense)             (None, 10)                330       \n",
      "                                                                 \n",
      "=================================================================\n",
      "Total params: 81066 (316.66 KB)\n",
      "Trainable params: 81066 (316.66 KB)\n",
      "Non-trainable params: 0 (0.00 Byte)\n",
      "_________________________________________________________________\n"
     ]
    }
   ],
   "source": [
    "model.summary()"
   ]
  },
  {
   "cell_type": "code",
   "execution_count": 13,
   "metadata": {},
   "outputs": [],
   "source": [
    "model.compile(optimizer='adam', loss='sparse_categorical_crossentropy', metrics=['accuracy'])"
   ]
  },
  {
   "cell_type": "markdown",
   "metadata": {},
   "source": [
    "# Callbacks"
   ]
  },
  {
   "cell_type": "code",
   "execution_count": 14,
   "metadata": {},
   "outputs": [],
   "source": [
    "from keras.callbacks import EarlyStopping, ModelCheckpoint\n",
    "\n",
    "es = EarlyStopping(monitor='val_acc', min_delta=0.01, patience=4, verbose=1 )\n",
    "mc = ModelCheckpoint('./best_model.h5', monitor='val_acc', verbose=1, save_best_only=True)\n",
    "\n",
    "cb = [es, mc]"
   ]
  },
  {
   "cell_type": "code",
   "execution_count": 15,
   "metadata": {},
   "outputs": [
    {
     "name": "stdout",
     "output_type": "stream",
     "text": [
      "Epoch 1/50\n",
      "1313/1313 [==============================] - ETA: 0s - loss: 0.4208 - accuracy: 0.8668WARNING:tensorflow:Early stopping conditioned on metric `val_acc` which is not available. Available metrics are: loss,accuracy,val_loss,val_accuracy\n",
      "WARNING:tensorflow:Can save best model only with val_acc available, skipping.\n",
      "1313/1313 [==============================] - 44s 31ms/step - loss: 0.4208 - accuracy: 0.8668 - val_loss: 0.1366 - val_accuracy: 0.9576\n",
      "Epoch 2/50\n",
      "1313/1313 [==============================] - ETA: 0s - loss: 0.1327 - accuracy: 0.9603WARNING:tensorflow:Early stopping conditioned on metric `val_acc` which is not available. Available metrics are: loss,accuracy,val_loss,val_accuracy\n",
      "WARNING:tensorflow:Can save best model only with val_acc available, skipping.\n",
      "1313/1313 [==============================] - 35s 27ms/step - loss: 0.1327 - accuracy: 0.9603 - val_loss: 0.0902 - val_accuracy: 0.9727\n",
      "Epoch 3/50\n",
      "1312/1313 [============================>.] - ETA: 0s - loss: 0.0975 - accuracy: 0.9709WARNING:tensorflow:Early stopping conditioned on metric `val_acc` which is not available. Available metrics are: loss,accuracy,val_loss,val_accuracy\n",
      "WARNING:tensorflow:Can save best model only with val_acc available, skipping.\n",
      "1313/1313 [==============================] - 35s 26ms/step - loss: 0.0975 - accuracy: 0.9709 - val_loss: 0.0737 - val_accuracy: 0.9775\n",
      "Epoch 4/50\n",
      "1313/1313 [==============================] - ETA: 0s - loss: 0.0748 - accuracy: 0.9777WARNING:tensorflow:Early stopping conditioned on metric `val_acc` which is not available. Available metrics are: loss,accuracy,val_loss,val_accuracy\n",
      "WARNING:tensorflow:Can save best model only with val_acc available, skipping.\n",
      "1313/1313 [==============================] - 43s 32ms/step - loss: 0.0748 - accuracy: 0.9777 - val_loss: 0.0702 - val_accuracy: 0.9785\n",
      "Epoch 5/50\n",
      "1312/1313 [============================>.] - ETA: 0s - loss: 0.0612 - accuracy: 0.9821WARNING:tensorflow:Early stopping conditioned on metric `val_acc` which is not available. Available metrics are: loss,accuracy,val_loss,val_accuracy\n",
      "WARNING:tensorflow:Can save best model only with val_acc available, skipping.\n",
      "1313/1313 [==============================] - 40s 30ms/step - loss: 0.0612 - accuracy: 0.9821 - val_loss: 0.0649 - val_accuracy: 0.9806\n",
      "Epoch 6/50\n",
      "1311/1313 [============================>.] - ETA: 0s - loss: 0.0525 - accuracy: 0.9843WARNING:tensorflow:Early stopping conditioned on metric `val_acc` which is not available. Available metrics are: loss,accuracy,val_loss,val_accuracy\n",
      "WARNING:tensorflow:Can save best model only with val_acc available, skipping.\n",
      "1313/1313 [==============================] - 36s 27ms/step - loss: 0.0525 - accuracy: 0.9843 - val_loss: 0.0655 - val_accuracy: 0.9800\n",
      "Epoch 7/50\n",
      "1312/1313 [============================>.] - ETA: 0s - loss: 0.0441 - accuracy: 0.9864WARNING:tensorflow:Early stopping conditioned on metric `val_acc` which is not available. Available metrics are: loss,accuracy,val_loss,val_accuracy\n",
      "WARNING:tensorflow:Can save best model only with val_acc available, skipping.\n",
      "1313/1313 [==============================] - 37s 28ms/step - loss: 0.0441 - accuracy: 0.9864 - val_loss: 0.0635 - val_accuracy: 0.9815\n",
      "Epoch 8/50\n",
      "1313/1313 [==============================] - ETA: 0s - loss: 0.0383 - accuracy: 0.9882WARNING:tensorflow:Early stopping conditioned on metric `val_acc` which is not available. Available metrics are: loss,accuracy,val_loss,val_accuracy\n",
      "WARNING:tensorflow:Can save best model only with val_acc available, skipping.\n",
      "1313/1313 [==============================] - 36s 27ms/step - loss: 0.0383 - accuracy: 0.9882 - val_loss: 0.0623 - val_accuracy: 0.9822\n",
      "Epoch 9/50\n",
      "1313/1313 [==============================] - ETA: 0s - loss: 0.0355 - accuracy: 0.9896WARNING:tensorflow:Early stopping conditioned on metric `val_acc` which is not available. Available metrics are: loss,accuracy,val_loss,val_accuracy\n",
      "WARNING:tensorflow:Can save best model only with val_acc available, skipping.\n",
      "1313/1313 [==============================] - 34s 26ms/step - loss: 0.0355 - accuracy: 0.9896 - val_loss: 0.0618 - val_accuracy: 0.9823\n",
      "Epoch 10/50\n",
      "1312/1313 [============================>.] - ETA: 0s - loss: 0.0296 - accuracy: 0.9903WARNING:tensorflow:Early stopping conditioned on metric `val_acc` which is not available. Available metrics are: loss,accuracy,val_loss,val_accuracy\n",
      "WARNING:tensorflow:Can save best model only with val_acc available, skipping.\n",
      "1313/1313 [==============================] - 36s 28ms/step - loss: 0.0296 - accuracy: 0.9903 - val_loss: 0.0586 - val_accuracy: 0.9844\n",
      "Epoch 11/50\n",
      "1311/1313 [============================>.] - ETA: 0s - loss: 0.0268 - accuracy: 0.9918WARNING:tensorflow:Early stopping conditioned on metric `val_acc` which is not available. Available metrics are: loss,accuracy,val_loss,val_accuracy\n",
      "WARNING:tensorflow:Can save best model only with val_acc available, skipping.\n",
      "1313/1313 [==============================] - 35s 27ms/step - loss: 0.0268 - accuracy: 0.9919 - val_loss: 0.0584 - val_accuracy: 0.9847\n",
      "Epoch 12/50\n",
      "1313/1313 [==============================] - ETA: 0s - loss: 0.0241 - accuracy: 0.9924WARNING:tensorflow:Early stopping conditioned on metric `val_acc` which is not available. Available metrics are: loss,accuracy,val_loss,val_accuracy\n",
      "WARNING:tensorflow:Can save best model only with val_acc available, skipping.\n",
      "1313/1313 [==============================] - 33s 25ms/step - loss: 0.0241 - accuracy: 0.9924 - val_loss: 0.0603 - val_accuracy: 0.9851\n",
      "Epoch 13/50\n",
      "1312/1313 [============================>.] - ETA: 0s - loss: 0.0241 - accuracy: 0.9927WARNING:tensorflow:Early stopping conditioned on metric `val_acc` which is not available. Available metrics are: loss,accuracy,val_loss,val_accuracy\n",
      "WARNING:tensorflow:Can save best model only with val_acc available, skipping.\n",
      "1313/1313 [==============================] - 36s 27ms/step - loss: 0.0241 - accuracy: 0.9927 - val_loss: 0.0581 - val_accuracy: 0.9851\n",
      "Epoch 14/50\n",
      "1311/1313 [============================>.] - ETA: 0s - loss: 0.0205 - accuracy: 0.9939WARNING:tensorflow:Early stopping conditioned on metric `val_acc` which is not available. Available metrics are: loss,accuracy,val_loss,val_accuracy\n",
      "WARNING:tensorflow:Can save best model only with val_acc available, skipping.\n",
      "1313/1313 [==============================] - 34s 26ms/step - loss: 0.0205 - accuracy: 0.9939 - val_loss: 0.0586 - val_accuracy: 0.9850\n",
      "Epoch 15/50\n",
      "1311/1313 [============================>.] - ETA: 0s - loss: 0.0175 - accuracy: 0.9942WARNING:tensorflow:Early stopping conditioned on metric `val_acc` which is not available. Available metrics are: loss,accuracy,val_loss,val_accuracy\n",
      "WARNING:tensorflow:Can save best model only with val_acc available, skipping.\n",
      "1313/1313 [==============================] - 33s 25ms/step - loss: 0.0175 - accuracy: 0.9942 - val_loss: 0.0891 - val_accuracy: 0.9822\n",
      "Epoch 16/50\n",
      "1311/1313 [============================>.] - ETA: 0s - loss: 0.0174 - accuracy: 0.9945WARNING:tensorflow:Early stopping conditioned on metric `val_acc` which is not available. Available metrics are: loss,accuracy,val_loss,val_accuracy\n",
      "WARNING:tensorflow:Can save best model only with val_acc available, skipping.\n",
      "1313/1313 [==============================] - 37s 28ms/step - loss: 0.0174 - accuracy: 0.9945 - val_loss: 0.0697 - val_accuracy: 0.9839\n",
      "Epoch 17/50\n",
      "1310/1313 [============================>.] - ETA: 0s - loss: 0.0149 - accuracy: 0.9947WARNING:tensorflow:Early stopping conditioned on metric `val_acc` which is not available. Available metrics are: loss,accuracy,val_loss,val_accuracy\n",
      "WARNING:tensorflow:Can save best model only with val_acc available, skipping.\n",
      "1313/1313 [==============================] - 36s 28ms/step - loss: 0.0149 - accuracy: 0.9947 - val_loss: 0.0756 - val_accuracy: 0.9845\n",
      "Epoch 18/50\n",
      "1312/1313 [============================>.] - ETA: 0s - loss: 0.0145 - accuracy: 0.9954WARNING:tensorflow:Early stopping conditioned on metric `val_acc` which is not available. Available metrics are: loss,accuracy,val_loss,val_accuracy\n",
      "WARNING:tensorflow:Can save best model only with val_acc available, skipping.\n",
      "1313/1313 [==============================] - 36s 27ms/step - loss: 0.0145 - accuracy: 0.9954 - val_loss: 0.0718 - val_accuracy: 0.9852\n",
      "Epoch 19/50\n",
      "1311/1313 [============================>.] - ETA: 0s - loss: 0.0146 - accuracy: 0.9951WARNING:tensorflow:Early stopping conditioned on metric `val_acc` which is not available. Available metrics are: loss,accuracy,val_loss,val_accuracy\n",
      "WARNING:tensorflow:Can save best model only with val_acc available, skipping.\n",
      "1313/1313 [==============================] - 36s 28ms/step - loss: 0.0147 - accuracy: 0.9951 - val_loss: 0.0699 - val_accuracy: 0.9848\n",
      "Epoch 20/50\n",
      "1310/1313 [============================>.] - ETA: 0s - loss: 0.0133 - accuracy: 0.9961WARNING:tensorflow:Early stopping conditioned on metric `val_acc` which is not available. Available metrics are: loss,accuracy,val_loss,val_accuracy\n",
      "WARNING:tensorflow:Can save best model only with val_acc available, skipping.\n",
      "1313/1313 [==============================] - 35s 26ms/step - loss: 0.0133 - accuracy: 0.9961 - val_loss: 0.0678 - val_accuracy: 0.9859\n",
      "Epoch 21/50\n",
      "1312/1313 [============================>.] - ETA: 0s - loss: 0.0121 - accuracy: 0.9964WARNING:tensorflow:Early stopping conditioned on metric `val_acc` which is not available. Available metrics are: loss,accuracy,val_loss,val_accuracy\n",
      "WARNING:tensorflow:Can save best model only with val_acc available, skipping.\n",
      "1313/1313 [==============================] - 35s 27ms/step - loss: 0.0121 - accuracy: 0.9964 - val_loss: 0.0766 - val_accuracy: 0.9848\n",
      "Epoch 22/50\n",
      "1312/1313 [============================>.] - ETA: 0s - loss: 0.0123 - accuracy: 0.9962WARNING:tensorflow:Early stopping conditioned on metric `val_acc` which is not available. Available metrics are: loss,accuracy,val_loss,val_accuracy\n",
      "WARNING:tensorflow:Can save best model only with val_acc available, skipping.\n",
      "1313/1313 [==============================] - 44s 33ms/step - loss: 0.0123 - accuracy: 0.9962 - val_loss: 0.0850 - val_accuracy: 0.9842\n",
      "Epoch 23/50\n",
      "1312/1313 [============================>.] - ETA: 0s - loss: 0.0119 - accuracy: 0.9963WARNING:tensorflow:Early stopping conditioned on metric `val_acc` which is not available. Available metrics are: loss,accuracy,val_loss,val_accuracy\n",
      "WARNING:tensorflow:Can save best model only with val_acc available, skipping.\n",
      "1313/1313 [==============================] - 43s 33ms/step - loss: 0.0119 - accuracy: 0.9963 - val_loss: 0.0772 - val_accuracy: 0.9836\n",
      "Epoch 24/50\n",
      "1313/1313 [==============================] - ETA: 0s - loss: 0.0108 - accuracy: 0.9967WARNING:tensorflow:Early stopping conditioned on metric `val_acc` which is not available. Available metrics are: loss,accuracy,val_loss,val_accuracy\n",
      "WARNING:tensorflow:Can save best model only with val_acc available, skipping.\n",
      "1313/1313 [==============================] - 37s 28ms/step - loss: 0.0108 - accuracy: 0.9967 - val_loss: 0.0925 - val_accuracy: 0.9836\n",
      "Epoch 25/50\n",
      "1312/1313 [============================>.] - ETA: 0s - loss: 0.0110 - accuracy: 0.9967WARNING:tensorflow:Early stopping conditioned on metric `val_acc` which is not available. Available metrics are: loss,accuracy,val_loss,val_accuracy\n",
      "WARNING:tensorflow:Can save best model only with val_acc available, skipping.\n",
      "1313/1313 [==============================] - 35s 26ms/step - loss: 0.0110 - accuracy: 0.9967 - val_loss: 0.0757 - val_accuracy: 0.9847\n",
      "Epoch 26/50\n",
      "1310/1313 [============================>.] - ETA: 0s - loss: 0.0108 - accuracy: 0.9965WARNING:tensorflow:Early stopping conditioned on metric `val_acc` which is not available. Available metrics are: loss,accuracy,val_loss,val_accuracy\n",
      "WARNING:tensorflow:Can save best model only with val_acc available, skipping.\n",
      "1313/1313 [==============================] - 38s 29ms/step - loss: 0.0108 - accuracy: 0.9965 - val_loss: 0.0893 - val_accuracy: 0.9846\n",
      "Epoch 27/50\n",
      "1311/1313 [============================>.] - ETA: 0s - loss: 0.0108 - accuracy: 0.9965WARNING:tensorflow:Early stopping conditioned on metric `val_acc` which is not available. Available metrics are: loss,accuracy,val_loss,val_accuracy\n",
      "WARNING:tensorflow:Can save best model only with val_acc available, skipping.\n",
      "1313/1313 [==============================] - 35s 27ms/step - loss: 0.0108 - accuracy: 0.9965 - val_loss: 0.0812 - val_accuracy: 0.9862\n",
      "Epoch 28/50\n",
      "1310/1313 [============================>.] - ETA: 0s - loss: 0.0085 - accuracy: 0.9974WARNING:tensorflow:Early stopping conditioned on metric `val_acc` which is not available. Available metrics are: loss,accuracy,val_loss,val_accuracy\n",
      "WARNING:tensorflow:Can save best model only with val_acc available, skipping.\n",
      "1313/1313 [==============================] - 35s 26ms/step - loss: 0.0085 - accuracy: 0.9974 - val_loss: 0.0887 - val_accuracy: 0.9844\n",
      "Epoch 29/50\n",
      "1311/1313 [============================>.] - ETA: 0s - loss: 0.0118 - accuracy: 0.9962WARNING:tensorflow:Early stopping conditioned on metric `val_acc` which is not available. Available metrics are: loss,accuracy,val_loss,val_accuracy\n",
      "WARNING:tensorflow:Can save best model only with val_acc available, skipping.\n",
      "1313/1313 [==============================] - 37s 28ms/step - loss: 0.0118 - accuracy: 0.9962 - val_loss: 0.0908 - val_accuracy: 0.9853\n",
      "Epoch 30/50\n",
      "1312/1313 [============================>.] - ETA: 0s - loss: 0.0096 - accuracy: 0.9972WARNING:tensorflow:Early stopping conditioned on metric `val_acc` which is not available. Available metrics are: loss,accuracy,val_loss,val_accuracy\n",
      "WARNING:tensorflow:Can save best model only with val_acc available, skipping.\n",
      "1313/1313 [==============================] - 38s 29ms/step - loss: 0.0096 - accuracy: 0.9972 - val_loss: 0.0844 - val_accuracy: 0.9843\n",
      "Epoch 31/50\n",
      "1312/1313 [============================>.] - ETA: 0s - loss: 0.0074 - accuracy: 0.9976WARNING:tensorflow:Early stopping conditioned on metric `val_acc` which is not available. Available metrics are: loss,accuracy,val_loss,val_accuracy\n",
      "WARNING:tensorflow:Can save best model only with val_acc available, skipping.\n",
      "1313/1313 [==============================] - 34s 26ms/step - loss: 0.0074 - accuracy: 0.9976 - val_loss: 0.0879 - val_accuracy: 0.9859\n",
      "Epoch 32/50\n",
      "1311/1313 [============================>.] - ETA: 0s - loss: 0.0104 - accuracy: 0.9972WARNING:tensorflow:Early stopping conditioned on metric `val_acc` which is not available. Available metrics are: loss,accuracy,val_loss,val_accuracy\n",
      "WARNING:tensorflow:Can save best model only with val_acc available, skipping.\n",
      "1313/1313 [==============================] - 34s 26ms/step - loss: 0.0104 - accuracy: 0.9972 - val_loss: 0.0896 - val_accuracy: 0.9853\n",
      "Epoch 33/50\n",
      "1312/1313 [============================>.] - ETA: 0s - loss: 0.0061 - accuracy: 0.9983WARNING:tensorflow:Early stopping conditioned on metric `val_acc` which is not available. Available metrics are: loss,accuracy,val_loss,val_accuracy\n",
      "WARNING:tensorflow:Can save best model only with val_acc available, skipping.\n",
      "1313/1313 [==============================] - 36s 27ms/step - loss: 0.0061 - accuracy: 0.9983 - val_loss: 0.0917 - val_accuracy: 0.9859\n",
      "Epoch 34/50\n",
      "1313/1313 [==============================] - ETA: 0s - loss: 0.0128 - accuracy: 0.9965WARNING:tensorflow:Early stopping conditioned on metric `val_acc` which is not available. Available metrics are: loss,accuracy,val_loss,val_accuracy\n",
      "WARNING:tensorflow:Can save best model only with val_acc available, skipping.\n",
      "1313/1313 [==============================] - 37s 28ms/step - loss: 0.0128 - accuracy: 0.9965 - val_loss: 0.0896 - val_accuracy: 0.9836\n",
      "Epoch 35/50\n",
      "1312/1313 [============================>.] - ETA: 0s - loss: 0.0063 - accuracy: 0.9978WARNING:tensorflow:Early stopping conditioned on metric `val_acc` which is not available. Available metrics are: loss,accuracy,val_loss,val_accuracy\n",
      "WARNING:tensorflow:Can save best model only with val_acc available, skipping.\n",
      "1313/1313 [==============================] - 36s 28ms/step - loss: 0.0063 - accuracy: 0.9978 - val_loss: 0.0949 - val_accuracy: 0.9854\n",
      "Epoch 36/50\n",
      "1311/1313 [============================>.] - ETA: 0s - loss: 0.0073 - accuracy: 0.9978WARNING:tensorflow:Early stopping conditioned on metric `val_acc` which is not available. Available metrics are: loss,accuracy,val_loss,val_accuracy\n",
      "WARNING:tensorflow:Can save best model only with val_acc available, skipping.\n",
      "1313/1313 [==============================] - 35s 27ms/step - loss: 0.0073 - accuracy: 0.9978 - val_loss: 0.0938 - val_accuracy: 0.9853\n",
      "Epoch 37/50\n",
      "1313/1313 [==============================] - ETA: 0s - loss: 0.0094 - accuracy: 0.9975WARNING:tensorflow:Early stopping conditioned on metric `val_acc` which is not available. Available metrics are: loss,accuracy,val_loss,val_accuracy\n",
      "WARNING:tensorflow:Can save best model only with val_acc available, skipping.\n",
      "1313/1313 [==============================] - 37s 28ms/step - loss: 0.0094 - accuracy: 0.9975 - val_loss: 0.0986 - val_accuracy: 0.9841\n",
      "Epoch 38/50\n",
      "1313/1313 [==============================] - ETA: 0s - loss: 0.0069 - accuracy: 0.9980WARNING:tensorflow:Early stopping conditioned on metric `val_acc` which is not available. Available metrics are: loss,accuracy,val_loss,val_accuracy\n",
      "WARNING:tensorflow:Can save best model only with val_acc available, skipping.\n",
      "1313/1313 [==============================] - 37s 28ms/step - loss: 0.0069 - accuracy: 0.9980 - val_loss: 0.0930 - val_accuracy: 0.9859\n",
      "Epoch 39/50\n",
      "1311/1313 [============================>.] - ETA: 0s - loss: 0.0083 - accuracy: 0.9976WARNING:tensorflow:Early stopping conditioned on metric `val_acc` which is not available. Available metrics are: loss,accuracy,val_loss,val_accuracy\n",
      "WARNING:tensorflow:Can save best model only with val_acc available, skipping.\n",
      "1313/1313 [==============================] - 37s 28ms/step - loss: 0.0083 - accuracy: 0.9976 - val_loss: 0.0952 - val_accuracy: 0.9850\n",
      "Epoch 40/50\n",
      "1313/1313 [==============================] - ETA: 0s - loss: 0.0082 - accuracy: 0.9975WARNING:tensorflow:Early stopping conditioned on metric `val_acc` which is not available. Available metrics are: loss,accuracy,val_loss,val_accuracy\n",
      "WARNING:tensorflow:Can save best model only with val_acc available, skipping.\n",
      "1313/1313 [==============================] - 33s 25ms/step - loss: 0.0082 - accuracy: 0.9975 - val_loss: 0.0850 - val_accuracy: 0.9870\n",
      "Epoch 41/50\n",
      "1311/1313 [============================>.] - ETA: 0s - loss: 0.0054 - accuracy: 0.9986WARNING:tensorflow:Early stopping conditioned on metric `val_acc` which is not available. Available metrics are: loss,accuracy,val_loss,val_accuracy\n",
      "WARNING:tensorflow:Can save best model only with val_acc available, skipping.\n",
      "1313/1313 [==============================] - 35s 27ms/step - loss: 0.0054 - accuracy: 0.9986 - val_loss: 0.1085 - val_accuracy: 0.9857\n",
      "Epoch 42/50\n",
      "1312/1313 [============================>.] - ETA: 0s - loss: 0.0089 - accuracy: 0.9975WARNING:tensorflow:Early stopping conditioned on metric `val_acc` which is not available. Available metrics are: loss,accuracy,val_loss,val_accuracy\n",
      "WARNING:tensorflow:Can save best model only with val_acc available, skipping.\n",
      "1313/1313 [==============================] - 35s 27ms/step - loss: 0.0089 - accuracy: 0.9975 - val_loss: 0.0993 - val_accuracy: 0.9846\n",
      "Epoch 43/50\n",
      "1312/1313 [============================>.] - ETA: 0s - loss: 0.0065 - accuracy: 0.9981WARNING:tensorflow:Early stopping conditioned on metric `val_acc` which is not available. Available metrics are: loss,accuracy,val_loss,val_accuracy\n",
      "WARNING:tensorflow:Can save best model only with val_acc available, skipping.\n",
      "1313/1313 [==============================] - 36s 28ms/step - loss: 0.0065 - accuracy: 0.9981 - val_loss: 0.0821 - val_accuracy: 0.9872\n",
      "Epoch 44/50\n",
      "1312/1313 [============================>.] - ETA: 0s - loss: 0.0072 - accuracy: 0.9978WARNING:tensorflow:Early stopping conditioned on metric `val_acc` which is not available. Available metrics are: loss,accuracy,val_loss,val_accuracy\n",
      "WARNING:tensorflow:Can save best model only with val_acc available, skipping.\n",
      "1313/1313 [==============================] - 35s 27ms/step - loss: 0.0072 - accuracy: 0.9978 - val_loss: 0.0976 - val_accuracy: 0.9857\n",
      "Epoch 45/50\n",
      "1312/1313 [============================>.] - ETA: 0s - loss: 0.0049 - accuracy: 0.9985WARNING:tensorflow:Early stopping conditioned on metric `val_acc` which is not available. Available metrics are: loss,accuracy,val_loss,val_accuracy\n",
      "WARNING:tensorflow:Can save best model only with val_acc available, skipping.\n",
      "1313/1313 [==============================] - 35s 27ms/step - loss: 0.0049 - accuracy: 0.9985 - val_loss: 0.0997 - val_accuracy: 0.9854\n",
      "Epoch 46/50\n",
      "1311/1313 [============================>.] - ETA: 0s - loss: 0.0085 - accuracy: 0.9977WARNING:tensorflow:Early stopping conditioned on metric `val_acc` which is not available. Available metrics are: loss,accuracy,val_loss,val_accuracy\n",
      "WARNING:tensorflow:Can save best model only with val_acc available, skipping.\n",
      "1313/1313 [==============================] - 36s 27ms/step - loss: 0.0085 - accuracy: 0.9977 - val_loss: 0.1243 - val_accuracy: 0.9803\n",
      "Epoch 47/50\n",
      "1311/1313 [============================>.] - ETA: 0s - loss: 0.0079 - accuracy: 0.9981WARNING:tensorflow:Early stopping conditioned on metric `val_acc` which is not available. Available metrics are: loss,accuracy,val_loss,val_accuracy\n",
      "WARNING:tensorflow:Can save best model only with val_acc available, skipping.\n",
      "1313/1313 [==============================] - 34s 26ms/step - loss: 0.0079 - accuracy: 0.9981 - val_loss: 0.0900 - val_accuracy: 0.9861\n",
      "Epoch 48/50\n",
      "1312/1313 [============================>.] - ETA: 0s - loss: 0.0047 - accuracy: 0.9985WARNING:tensorflow:Early stopping conditioned on metric `val_acc` which is not available. Available metrics are: loss,accuracy,val_loss,val_accuracy\n",
      "WARNING:tensorflow:Can save best model only with val_acc available, skipping.\n",
      "1313/1313 [==============================] - 34s 26ms/step - loss: 0.0047 - accuracy: 0.9985 - val_loss: 0.1133 - val_accuracy: 0.9838\n",
      "Epoch 49/50\n",
      "1311/1313 [============================>.] - ETA: 0s - loss: 0.0079 - accuracy: 0.9977WARNING:tensorflow:Early stopping conditioned on metric `val_acc` which is not available. Available metrics are: loss,accuracy,val_loss,val_accuracy\n",
      "WARNING:tensorflow:Can save best model only with val_acc available, skipping.\n",
      "1313/1313 [==============================] - 33s 25ms/step - loss: 0.0079 - accuracy: 0.9977 - val_loss: 0.1150 - val_accuracy: 0.9844\n",
      "Epoch 50/50\n",
      "1311/1313 [============================>.] - ETA: 0s - loss: 0.0082 - accuracy: 0.9977WARNING:tensorflow:Early stopping conditioned on metric `val_acc` which is not available. Available metrics are: loss,accuracy,val_loss,val_accuracy\n",
      "WARNING:tensorflow:Can save best model only with val_acc available, skipping.\n",
      "1313/1313 [==============================] - 36s 27ms/step - loss: 0.0082 - accuracy: 0.9977 - val_loss: 0.0926 - val_accuracy: 0.9862\n"
     ]
    },
    {
     "data": {
      "text/plain": [
       "<keras.src.callbacks.History at 0x2207e344040>"
      ]
     },
     "execution_count": 15,
     "metadata": {},
     "output_type": "execute_result"
    }
   ],
   "source": [
    "model.fit(X_train, y_train, epochs= 50, validation_split=0.3, callbacks=cb)"
   ]
  },
  {
   "cell_type": "code",
   "execution_count": 16,
   "metadata": {},
   "outputs": [
    {
     "name": "stderr",
     "output_type": "stream",
     "text": [
      "c:\\Users\\Charcha\\anaconda3\\lib\\site-packages\\keras\\src\\engine\\training.py:3000: UserWarning: You are saving your model as an HDF5 file via `model.save()`. This file format is considered legacy. We recommend using instead the native Keras format, e.g. `model.save('my_model.keras')`.\n",
      "  saving_api.save_model(\n"
     ]
    }
   ],
   "source": [
    "model.save('best_model', save_format='h5')\n"
   ]
  },
  {
   "cell_type": "code",
   "execution_count": 17,
   "metadata": {},
   "outputs": [],
   "source": [
    "model_S = keras.models.load_model('C:/Users/Charcha/Music/ML/HandwrittenDigit/handwrittenDigit/best_model')\n"
   ]
  },
  {
   "cell_type": "code",
   "execution_count": 18,
   "metadata": {},
   "outputs": [
    {
     "name": "stdout",
     "output_type": "stream",
     "text": [
      "313/313 [==============================] - 3s 8ms/step - loss: 0.0945 - accuracy: 0.9861\n",
      "Model Accuracy = 0.9861000180244446\n"
     ]
    }
   ],
   "source": [
    "score = model_S.evaluate(X_test, y_test) \n",
    "print(f'Model Accuracy = {score[1]}') # score[0] is loss and score[1] is accuracy"
   ]
  },
  {
   "cell_type": "code",
   "execution_count": null,
   "metadata": {},
   "outputs": [],
   "source": []
  }
 ],
 "metadata": {
  "kernelspec": {
   "display_name": "Python 3",
   "language": "python",
   "name": "python3"
  },
  "language_info": {
   "codemirror_mode": {
    "name": "ipython",
    "version": 3
   },
   "file_extension": ".py",
   "mimetype": "text/x-python",
   "name": "python",
   "nbconvert_exporter": "python",
   "pygments_lexer": "ipython3",
   "version": "3.9.7"
  },
  "orig_nbformat": 4
 },
 "nbformat": 4,
 "nbformat_minor": 2
}
